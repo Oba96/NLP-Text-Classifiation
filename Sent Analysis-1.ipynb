{
 "cells": [
  {
   "cell_type": "code",
   "execution_count": 1,
   "id": "072a376e-16ed-4da9-a973-96a6950fc310",
   "metadata": {},
   "outputs": [],
   "source": [
    "import spacy"
   ]
  },
  {
   "cell_type": "code",
   "execution_count": 3,
   "id": "0d483849-3546-441a-b852-932a8edc3d48",
   "metadata": {},
   "outputs": [],
   "source": [
    "nlp = spacy.load('en_core_web_lg')"
   ]
  },
  {
   "cell_type": "code",
   "execution_count": null,
   "id": "5f4b5987-7199-431d-94c8-fe4a030689a0",
   "metadata": {},
   "outputs": [],
   "source": [
    "nlp(u'The quick brown fox jumped').vector"
   ]
  },
  {
   "cell_type": "code",
   "execution_count": null,
   "id": "778a0df5-bd5f-49ba-917c-bf455323e087",
   "metadata": {},
   "outputs": [],
   "source": [
    "nlp(u'The quick brown fox jumped').vector.shape"
   ]
  },
  {
   "cell_type": "code",
   "execution_count": null,
   "id": "463fe747-b2c9-45aa-ac38-331834faf8bc",
   "metadata": {},
   "outputs": [],
   "source": [
    "nlp(u'fox').vector.shape"
   ]
  },
  {
   "cell_type": "code",
   "execution_count": null,
   "id": "6c572f8d-0710-446d-959f-e64fef0c42a1",
   "metadata": {},
   "outputs": [],
   "source": [
    "tokens = nlp(u'Like love hate')"
   ]
  },
  {
   "cell_type": "code",
   "execution_count": null,
   "id": "79372520-435f-411d-94e0-43566a262ea3",
   "metadata": {},
   "outputs": [],
   "source": [
    "for token1 in tokens:\n",
    "    for token2 in tokens:\n",
    "        print(token1.text,token2.text,token1.similarity(token2))"
   ]
  },
  {
   "cell_type": "code",
   "execution_count": null,
   "id": "c9ad686f-0f62-4268-acb3-a48216fcdacf",
   "metadata": {},
   "outputs": [],
   "source": [
    "tokens = nlp(u'dog cat nargle')"
   ]
  },
  {
   "cell_type": "code",
   "execution_count": null,
   "id": "2878626f-742a-424b-9c0a-4d0a594019ca",
   "metadata": {},
   "outputs": [],
   "source": [
    "for token in tokens:\n",
    "    print(token.text, token.has_vector, token.vector_norm, token.is_oov)"
   ]
  },
  {
   "cell_type": "code",
   "execution_count": 7,
   "id": "4e91757d-a920-406a-b5d9-2a5e66c3cc50",
   "metadata": {},
   "outputs": [],
   "source": [
    "from scipy import spatial\n",
    "\n",
    "cosine_similarity = lambda vec1,vec2: 1 - spatial.distance.cosine(vec1,vec2)"
   ]
  },
  {
   "cell_type": "code",
   "execution_count": 8,
   "id": "00741e20-5cb0-444f-bce3-89d802e88cc3",
   "metadata": {},
   "outputs": [],
   "source": [
    "king = nlp.vocab['king'].vector\n",
    "man = nlp.vocab['man'].vector\n",
    "woman = nlp.vocab['woman'].vector"
   ]
  },
  {
   "cell_type": "code",
   "execution_count": 9,
   "id": "466dda9b-49db-45d7-af27-b1f019def3a2",
   "metadata": {},
   "outputs": [],
   "source": [
    "new_vector = king-man+woman"
   ]
  },
  {
   "cell_type": "code",
   "execution_count": 10,
   "id": "b760f448-8e35-45a0-8b28-28e019615bc5",
   "metadata": {},
   "outputs": [],
   "source": [
    "computed_similarities = []\n",
    "\n",
    "for word in nlp.vocab:\n",
    "    if word.has_vector:\n",
    "        if word.is_lower:\n",
    "            if word.is_alpha:\n",
    "                similarity = cosine_similarity(new_vector, word.vector)\n",
    "                computed_similarities.append((word,similarity))"
   ]
  },
  {
   "cell_type": "code",
   "execution_count": 11,
   "id": "7cb7efc8-0882-45bb-9f9f-97823778863a",
   "metadata": {},
   "outputs": [],
   "source": [
    "computed_similarities = sorted(computed_similarities, key=lambda item:-item[1])"
   ]
  },
  {
   "cell_type": "code",
   "execution_count": 12,
   "id": "8f863168-9f5c-414f-ab52-87dac931131e",
   "metadata": {},
   "outputs": [
    {
     "name": "stdout",
     "output_type": "stream",
     "text": [
      "['king', 'woman', 'she', 'who', 'when', 'dare', 'was', 'not', 'had', 'let']\n"
     ]
    }
   ],
   "source": [
    "print([t[0].text for t in computed_similarities[:10]])"
   ]
  },
  {
   "cell_type": "code",
   "execution_count": null,
   "id": "c4fb778b-2587-4115-8ab6-5c5a04b362aa",
   "metadata": {},
   "outputs": [],
   "source": []
  }
 ],
 "metadata": {
  "kernelspec": {
   "display_name": "Python 3 (ipykernel)",
   "language": "python",
   "name": "python3"
  },
  "language_info": {
   "codemirror_mode": {
    "name": "ipython",
    "version": 3
   },
   "file_extension": ".py",
   "mimetype": "text/x-python",
   "name": "python",
   "nbconvert_exporter": "python",
   "pygments_lexer": "ipython3",
   "version": "3.8.13"
  }
 },
 "nbformat": 4,
 "nbformat_minor": 5
}
