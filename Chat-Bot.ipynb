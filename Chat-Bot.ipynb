{
 "cells": [
  {
   "cell_type": "code",
   "execution_count": 1,
   "id": "840477a7-8fb8-4df1-a826-357eea406d67",
   "metadata": {},
   "outputs": [],
   "source": [
    "import pickle\n",
    "import numpy as np"
   ]
  },
  {
   "cell_type": "code",
   "execution_count": 2,
   "id": "297b6950-822d-44fd-bd0a-a8448abae102",
   "metadata": {},
   "outputs": [],
   "source": [
    "with open('C:\\\\Users\\\\eobuobi\\\\trial\\\\nlp_project\\\\data\\\\final\\\\train_qa.txt', 'rb') as f:\n",
    "    train_data = pickle.load(f)"
   ]
  },
  {
   "cell_type": "code",
   "execution_count": 3,
   "id": "40520607-94e8-4607-91ed-d458ec366c9e",
   "metadata": {},
   "outputs": [],
   "source": [
    "with open('C:\\\\Users\\\\eobuobi\\\\trial\\\\nlp_project\\\\data\\\\final\\\\test_qa.txt', 'rb') as f:\n",
    "    test_data = pickle.load(f)"
   ]
  },
  {
   "cell_type": "code",
   "execution_count": 4,
   "id": "a1aec65c-3384-4d5c-a4f3-0b32395e84c3",
   "metadata": {},
   "outputs": [
    {
     "data": {
      "text/plain": [
       "list"
      ]
     },
     "execution_count": 4,
     "metadata": {},
     "output_type": "execute_result"
    }
   ],
   "source": [
    "type(test_data)"
   ]
  },
  {
   "cell_type": "code",
   "execution_count": 5,
   "id": "4c736f88-5aa4-4f01-b23a-98100ec431ed",
   "metadata": {},
   "outputs": [
    {
     "data": {
      "text/plain": [
       "list"
      ]
     },
     "execution_count": 5,
     "metadata": {},
     "output_type": "execute_result"
    }
   ],
   "source": [
    "type(train_data)"
   ]
  },
  {
   "cell_type": "code",
   "execution_count": 6,
   "id": "5b10e38e-6066-4d2a-b926-9019c87a9876",
   "metadata": {},
   "outputs": [
    {
     "data": {
      "text/plain": [
       "10000"
      ]
     },
     "execution_count": 6,
     "metadata": {},
     "output_type": "execute_result"
    }
   ],
   "source": [
    "len(train_data)"
   ]
  },
  {
   "cell_type": "code",
   "execution_count": 7,
   "id": "bd10913a-53fb-47fa-9112-3c953f179960",
   "metadata": {},
   "outputs": [
    {
     "data": {
      "text/plain": [
       "1000"
      ]
     },
     "execution_count": 7,
     "metadata": {},
     "output_type": "execute_result"
    }
   ],
   "source": [
    "len(test_data)"
   ]
  },
  {
   "cell_type": "code",
   "execution_count": 8,
   "id": "6bea062e-aa6a-4a71-aea9-565ad327a6b0",
   "metadata": {},
   "outputs": [
    {
     "data": {
      "text/plain": [
       "(['Mary',\n",
       "  'moved',\n",
       "  'to',\n",
       "  'the',\n",
       "  'bathroom',\n",
       "  '.',\n",
       "  'Sandra',\n",
       "  'journeyed',\n",
       "  'to',\n",
       "  'the',\n",
       "  'bedroom',\n",
       "  '.'],\n",
       " ['Is', 'Sandra', 'in', 'the', 'hallway', '?'],\n",
       " 'no')"
      ]
     },
     "execution_count": 8,
     "metadata": {},
     "output_type": "execute_result"
    }
   ],
   "source": [
    "train_data[0]"
   ]
  },
  {
   "cell_type": "code",
   "execution_count": 9,
   "id": "d4118314-8f7b-4c9b-8670-d69f2b531371",
   "metadata": {},
   "outputs": [
    {
     "data": {
      "text/plain": [
       "'Mary moved to the bathroom . Sandra journeyed to the bedroom .'"
      ]
     },
     "execution_count": 9,
     "metadata": {},
     "output_type": "execute_result"
    }
   ],
   "source": [
    "' '.join(train_data[0][0])"
   ]
  },
  {
   "cell_type": "code",
   "execution_count": 10,
   "id": "fcb10ee2-f917-4dec-ac2c-80703529e4ac",
   "metadata": {},
   "outputs": [
    {
     "data": {
      "text/plain": [
       "'Is Sandra in the hallway ?'"
      ]
     },
     "execution_count": 10,
     "metadata": {},
     "output_type": "execute_result"
    }
   ],
   "source": [
    "' '.join(train_data[0][1])"
   ]
  },
  {
   "cell_type": "code",
   "execution_count": 11,
   "id": "a680d9c2-19c6-4453-b553-ea86d8fb89b3",
   "metadata": {},
   "outputs": [
    {
     "data": {
      "text/plain": [
       "'no'"
      ]
     },
     "execution_count": 11,
     "metadata": {},
     "output_type": "execute_result"
    }
   ],
   "source": [
    "train_data[0][2]"
   ]
  },
  {
   "cell_type": "code",
   "execution_count": 12,
   "id": "5c4e1a9c-9836-46c6-8e8f-5a084f0efa35",
   "metadata": {},
   "outputs": [],
   "source": [
    "all_data = test_data + train_data"
   ]
  },
  {
   "cell_type": "code",
   "execution_count": 13,
   "id": "f8d971b6-9e98-48e8-af78-54f3f00f08df",
   "metadata": {},
   "outputs": [
    {
     "data": {
      "text/plain": [
       "11000"
      ]
     },
     "execution_count": 13,
     "metadata": {},
     "output_type": "execute_result"
    }
   ],
   "source": [
    "len(all_data)"
   ]
  },
  {
   "cell_type": "code",
   "execution_count": 14,
   "id": "ecc0aa15-d63f-4343-a138-c04bbd20067b",
   "metadata": {},
   "outputs": [],
   "source": [
    "vocab = set()"
   ]
  },
  {
   "cell_type": "code",
   "execution_count": 15,
   "id": "8cc28432-cb0d-4503-acd9-fdd01745800b",
   "metadata": {},
   "outputs": [],
   "source": [
    "for story, question, answer in all_data:\n",
    "    vocab = vocab.union(set(story))\n",
    "    vocab = vocab.union(set(question))"
   ]
  },
  {
   "cell_type": "code",
   "execution_count": 16,
   "id": "79ce8198-2938-4f8f-bac2-5fff1ca6ab6a",
   "metadata": {},
   "outputs": [],
   "source": [
    "vocab.add('no')"
   ]
  },
  {
   "cell_type": "code",
   "execution_count": 17,
   "id": "f6f60cdf-de4c-4772-815b-c0b0aab10752",
   "metadata": {},
   "outputs": [],
   "source": [
    "vocab.add('yes')"
   ]
  },
  {
   "cell_type": "code",
   "execution_count": 18,
   "id": "02059bb9-8fbf-4f10-b250-f49569488e54",
   "metadata": {},
   "outputs": [
    {
     "data": {
      "text/plain": [
       "{'.',\n",
       " '?',\n",
       " 'Daniel',\n",
       " 'Is',\n",
       " 'John',\n",
       " 'Mary',\n",
       " 'Sandra',\n",
       " 'apple',\n",
       " 'back',\n",
       " 'bathroom',\n",
       " 'bedroom',\n",
       " 'discarded',\n",
       " 'down',\n",
       " 'dropped',\n",
       " 'football',\n",
       " 'garden',\n",
       " 'got',\n",
       " 'grabbed',\n",
       " 'hallway',\n",
       " 'in',\n",
       " 'journeyed',\n",
       " 'kitchen',\n",
       " 'left',\n",
       " 'milk',\n",
       " 'moved',\n",
       " 'no',\n",
       " 'office',\n",
       " 'picked',\n",
       " 'put',\n",
       " 'the',\n",
       " 'there',\n",
       " 'to',\n",
       " 'took',\n",
       " 'travelled',\n",
       " 'up',\n",
       " 'went',\n",
       " 'yes'}"
      ]
     },
     "execution_count": 18,
     "metadata": {},
     "output_type": "execute_result"
    }
   ],
   "source": [
    "vocab"
   ]
  },
  {
   "cell_type": "code",
   "execution_count": 19,
   "id": "0f278ca6-badb-4e31-9131-82d3ec21b8af",
   "metadata": {},
   "outputs": [],
   "source": [
    "vocab_len = len(vocab) + 1"
   ]
  },
  {
   "cell_type": "code",
   "execution_count": 20,
   "id": "3aeb0983-78f0-49c3-8095-203270633a81",
   "metadata": {},
   "outputs": [
    {
     "data": {
      "text/plain": [
       "38"
      ]
     },
     "execution_count": 20,
     "metadata": {},
     "output_type": "execute_result"
    }
   ],
   "source": [
    "vocab_len"
   ]
  },
  {
   "cell_type": "code",
   "execution_count": 21,
   "id": "4dd6c036-100b-4204-afab-42e2e24093b0",
   "metadata": {},
   "outputs": [],
   "source": [
    "# LONGEST STORY\n",
    "all_story_lens = [len(data[0]) for data in all_data]"
   ]
  },
  {
   "cell_type": "code",
   "execution_count": 22,
   "id": "243e568a-42b6-4f61-8986-b1d681bf9c2e",
   "metadata": {},
   "outputs": [],
   "source": [
    "max_story_len = max(all_story_lens)"
   ]
  },
  {
   "cell_type": "code",
   "execution_count": 23,
   "id": "1e9bfd7b-d3c5-40ad-a521-1310ccf05ff3",
   "metadata": {},
   "outputs": [],
   "source": [
    "max_question_len = max([len(data[1]) for data in all_data])"
   ]
  },
  {
   "cell_type": "code",
   "execution_count": 24,
   "id": "678468a5-b765-4e31-843c-97e9d00563e1",
   "metadata": {},
   "outputs": [
    {
     "data": {
      "text/plain": [
       "6"
      ]
     },
     "execution_count": 24,
     "metadata": {},
     "output_type": "execute_result"
    }
   ],
   "source": [
    "max_question_len"
   ]
  },
  {
   "cell_type": "code",
   "execution_count": 25,
   "id": "da75deb0-604a-4fba-8487-f2b17ce5ae41",
   "metadata": {},
   "outputs": [],
   "source": [
    "from keras_preprocessing.sequence import pad_sequences\n",
    "from keras_preprocessing.text import Tokenizer"
   ]
  },
  {
   "cell_type": "code",
   "execution_count": 26,
   "id": "5d73448f-9a48-4c40-80ef-d51135cd0350",
   "metadata": {},
   "outputs": [],
   "source": [
    "tokenizer = Tokenizer(filters=[])\n",
    "tokenizer.fit_on_texts(vocab)"
   ]
  },
  {
   "cell_type": "code",
   "execution_count": 27,
   "id": "d7fe8b19-492c-409e-a06c-4a2e94b6dc4c",
   "metadata": {},
   "outputs": [
    {
     "data": {
      "text/plain": [
       "{'there': 1,\n",
       " 'daniel': 2,\n",
       " 'is': 3,\n",
       " 'took': 4,\n",
       " 'put': 5,\n",
       " 'moved': 6,\n",
       " 'to': 7,\n",
       " 'dropped': 8,\n",
       " 'sandra': 9,\n",
       " 'picked': 10,\n",
       " 'went': 11,\n",
       " 'bedroom': 12,\n",
       " 'john': 13,\n",
       " 'apple': 14,\n",
       " 'back': 15,\n",
       " 'the': 16,\n",
       " 'yes': 17,\n",
       " '.': 18,\n",
       " 'bathroom': 19,\n",
       " 'milk': 20,\n",
       " 'got': 21,\n",
       " 'discarded': 22,\n",
       " 'travelled': 23,\n",
       " 'mary': 24,\n",
       " 'office': 25,\n",
       " 'left': 26,\n",
       " 'garden': 27,\n",
       " 'hallway': 28,\n",
       " '?': 29,\n",
       " 'up': 30,\n",
       " 'grabbed': 31,\n",
       " 'down': 32,\n",
       " 'no': 33,\n",
       " 'football': 34,\n",
       " 'kitchen': 35,\n",
       " 'in': 36,\n",
       " 'journeyed': 37}"
      ]
     },
     "execution_count": 27,
     "metadata": {},
     "output_type": "execute_result"
    }
   ],
   "source": [
    "tokenizer.word_index"
   ]
  },
  {
   "cell_type": "code",
   "execution_count": 28,
   "id": "44136444-d30c-4f0e-9338-a3c3a3cf50b8",
   "metadata": {},
   "outputs": [],
   "source": [
    "train_story_text = []\n",
    "train_question_text = []\n",
    "train_answers = []"
   ]
  },
  {
   "cell_type": "code",
   "execution_count": 29,
   "id": "f8ff7ed2-a2eb-41e0-a2db-385108f96d58",
   "metadata": {},
   "outputs": [],
   "source": [
    "for story,question,answer in train_data:\n",
    "    train_story_text.append(story)\n",
    "    train_question_text.append(question)\n",
    "    train_answers.append(answer)"
   ]
  },
  {
   "cell_type": "code",
   "execution_count": 30,
   "id": "7390e772-fb4a-424d-9804-bd0ed1cd460d",
   "metadata": {},
   "outputs": [],
   "source": [
    "train_story_seq = tokenizer.texts_to_sequences(train_story_text)"
   ]
  },
  {
   "cell_type": "code",
   "execution_count": 31,
   "id": "157ef4c9-ed80-441b-ab2e-bd24f58490ec",
   "metadata": {},
   "outputs": [
    {
     "data": {
      "text/plain": [
       "10000"
      ]
     },
     "execution_count": 31,
     "metadata": {},
     "output_type": "execute_result"
    }
   ],
   "source": [
    "len(train_story_seq)"
   ]
  },
  {
   "cell_type": "code",
   "execution_count": 32,
   "id": "b26205c9-a236-4651-ba94-d122d50cbabf",
   "metadata": {},
   "outputs": [],
   "source": [
    "def vectorize_stories(data, word_index=tokenizer.word_index, max_story_len=max_story_len,max_question_len=max_question_len):\n",
    "    '''\n",
    "    INPUT: \n",
    "    \n",
    "    data: consisting of Stories,Queries,and Answers\n",
    "    word_index: word index dictionary from tokenizer\n",
    "    max_story_len: the length of the longest story (used for pad_sequences function)\n",
    "    max_question_len: length of the longest question (used for pad_sequences function)\n",
    "\n",
    "\n",
    "    OUTPUT:\n",
    "    \n",
    "    Vectorizes the stories,questions, and answers into padded sequences. We first loop for every story, query , and\n",
    "    answer in the data. Then we convert the raw words to an word index value. Then we append each set to their appropriate\n",
    "    output list. Then once we have converted the words to numbers, we pad the sequences so they are all of equal length.\n",
    "    \n",
    "    Returns this in the form of a tuple (X,Xq,Y) (padded based on max lengths)\n",
    "    '''\n",
    "    \n",
    "    \n",
    "    # X = STORIES\n",
    "    X = []\n",
    "    # Xq = QUERY/QUESTION\n",
    "    Xq = []\n",
    "    # Y = CORRECT ANSWER\n",
    "    Y = []\n",
    "    \n",
    "    \n",
    "    for story, query, answer in data:\n",
    "        \n",
    "        # Grab the word index for every word in story\n",
    "        x = [word_index[word.lower()] for word in story]\n",
    "        # Grab the word index for every word in query\n",
    "        xq = [word_index[word.lower()] for word in query]\n",
    "        \n",
    "        # Grab the Answers (either Yes/No so we don't need to use list comprehension here)\n",
    "        # Index 0 is reserved so we're going to use + 1\n",
    "        y = np.zeros(len(word_index) + 1)\n",
    "        \n",
    "        # Now that y is all zeros and we know its just Yes/No , we can use numpy logic to create this assignment\n",
    "        #\n",
    "        y[word_index[answer]] = 1\n",
    "        \n",
    "        # Append each set of story,query, and answer to their respective holding lists\n",
    "        X.append(x)\n",
    "        Xq.append(xq)\n",
    "        Y.append(y)\n",
    "        \n",
    "    # Finally, pad the sequences based on their max length so the RNN can be trained on uniformly long sequences.\n",
    "        \n",
    "    # RETURN TUPLE FOR UNPACKING\n",
    "    return (pad_sequences(X, maxlen=max_story_len),pad_sequences(Xq, maxlen=max_question_len), np.array(Y))"
   ]
  },
  {
   "cell_type": "code",
   "execution_count": 33,
   "id": "c8ad8b46-7108-4d15-9ea2-6c8e6e180463",
   "metadata": {},
   "outputs": [],
   "source": [
    "inputs_train, queries_train, answers_train = vectorize_stories(train_data)"
   ]
  },
  {
   "cell_type": "code",
   "execution_count": 34,
   "id": "a8dac9b9-afc6-4112-97b9-3568b5ce4367",
   "metadata": {},
   "outputs": [],
   "source": [
    "inputs_test, queries_test, answers_test = vectorize_stories(test_data)"
   ]
  },
  {
   "cell_type": "code",
   "execution_count": 35,
   "id": "6f0998d4-759d-43ee-945d-697ae45815ee",
   "metadata": {},
   "outputs": [
    {
     "data": {
      "text/plain": [
       "array([[ 0,  0,  0, ..., 16, 12, 18],\n",
       "       [ 0,  0,  0, ..., 16, 27, 18],\n",
       "       [ 0,  0,  0, ..., 16, 27, 18],\n",
       "       ...,\n",
       "       [ 0,  0,  0, ..., 16, 14, 18],\n",
       "       [ 0,  0,  0, ..., 16, 27, 18],\n",
       "       [ 0,  0,  0, ..., 14,  1, 18]])"
      ]
     },
     "execution_count": 35,
     "metadata": {},
     "output_type": "execute_result"
    }
   ],
   "source": [
    "inputs_test"
   ]
  },
  {
   "cell_type": "code",
   "execution_count": 36,
   "id": "8e3a3248-ef3f-4bc0-ba8e-306b91a5cefc",
   "metadata": {},
   "outputs": [
    {
     "data": {
      "text/plain": [
       "array([[0., 0., 0., ..., 0., 0., 0.],\n",
       "       [0., 0., 0., ..., 0., 0., 0.],\n",
       "       [0., 0., 0., ..., 0., 0., 0.],\n",
       "       ...,\n",
       "       [0., 0., 0., ..., 0., 0., 0.],\n",
       "       [0., 0., 0., ..., 0., 0., 0.],\n",
       "       [0., 0., 0., ..., 0., 0., 0.]])"
      ]
     },
     "execution_count": 36,
     "metadata": {},
     "output_type": "execute_result"
    }
   ],
   "source": [
    "answers_test"
   ]
  },
  {
   "cell_type": "code",
   "execution_count": 37,
   "id": "a3c0c67e-d509-4cc3-8b39-c71bf87c307f",
   "metadata": {},
   "outputs": [
    {
     "data": {
      "text/plain": [
       "17"
      ]
     },
     "execution_count": 37,
     "metadata": {},
     "output_type": "execute_result"
    }
   ],
   "source": [
    "tokenizer.word_index['yes']"
   ]
  },
  {
   "cell_type": "code",
   "execution_count": 38,
   "id": "3c132cfd-450e-42c4-8cab-29baa4944997",
   "metadata": {},
   "outputs": [
    {
     "data": {
      "text/plain": [
       "33"
      ]
     },
     "execution_count": 38,
     "metadata": {},
     "output_type": "execute_result"
    }
   ],
   "source": [
    "tokenizer.word_index['no']"
   ]
  },
  {
   "cell_type": "code",
   "execution_count": 39,
   "id": "abe68a7a-c43e-4b23-bb3a-b5880ddb1c54",
   "metadata": {},
   "outputs": [
    {
     "data": {
      "text/plain": [
       "array([  0.,   0.,   0.,   0.,   0.,   0.,   0.,   0.,   0.,   0.,   0.,\n",
       "         0.,   0.,   0.,   0.,   0.,   0., 497.,   0.,   0.,   0.,   0.,\n",
       "         0.,   0.,   0.,   0.,   0.,   0.,   0.,   0.,   0.,   0.,   0.,\n",
       "       503.,   0.,   0.,   0.,   0.])"
      ]
     },
     "execution_count": 39,
     "metadata": {},
     "output_type": "execute_result"
    }
   ],
   "source": [
    "sum(answers_test)"
   ]
  },
  {
   "cell_type": "code",
   "execution_count": 40,
   "id": "99446b9a-8dc6-4b6b-a8e5-c78b9f8055ac",
   "metadata": {},
   "outputs": [],
   "source": [
    "from keras.models import Sequential, Model\n",
    "from keras.layers import Embedding\n",
    "from keras.layers import Input, Activation, Dense, Permute, Dropout\n",
    "from keras.layers import add, dot, concatenate\n",
    "from keras.layers import LSTM"
   ]
  },
  {
   "cell_type": "code",
   "execution_count": 41,
   "id": "ddf95668-ef21-4638-856d-79d41569ef1f",
   "metadata": {},
   "outputs": [],
   "source": [
    "# PLACEHOLDER shape(max_story_len, batch_size)\n",
    "input_sequence = Input((max_story_len,))\n",
    "question = Input((max_question_len,))"
   ]
  },
  {
   "cell_type": "code",
   "execution_count": 42,
   "id": "6c2e246b-cde6-4693-9346-b39949c0b5b1",
   "metadata": {},
   "outputs": [],
   "source": [
    "# vocab_len\n",
    "vocab_size = len(vocab) + 1"
   ]
  },
  {
   "cell_type": "code",
   "execution_count": 43,
   "id": "a75efe01-221c-431a-8601-60096a53c9e9",
   "metadata": {},
   "outputs": [],
   "source": [
    "# Input gets embedded to a sequence of vectors\n",
    "input_encoder_m = Sequential()\n",
    "input_encoder_m.add(Embedding(input_dim=vocab_size,output_dim=64))\n",
    "input_encoder_m.add(Dropout(0.3))\n",
    "\n",
    "# This encoder will output:\n",
    "# (samples, story_maxlen, embedding_dim)"
   ]
  },
  {
   "cell_type": "code",
   "execution_count": 44,
   "id": "535d7a6a-3a99-4960-aec4-93632412d7c3",
   "metadata": {},
   "outputs": [],
   "source": [
    "# embed the input into a sequence of vectors of size query_maxlen\n",
    "input_encoder_c = Sequential()\n",
    "input_encoder_c.add(Embedding(input_dim=vocab_size,output_dim=max_question_len))\n",
    "input_encoder_c.add(Dropout(0.3))\n",
    "# output: (samples, story_maxlen, query_maxlen)"
   ]
  },
  {
   "cell_type": "code",
   "execution_count": 45,
   "id": "142eb06c-1eff-49cd-902f-bacc9b3905ad",
   "metadata": {},
   "outputs": [],
   "source": [
    "# embed the question into a sequence of vectors\n",
    "question_encoder = Sequential()\n",
    "question_encoder.add(Embedding(input_dim=vocab_size,\n",
    "                               output_dim=64,\n",
    "                               input_length=max_question_len))\n",
    "question_encoder.add(Dropout(0.3))\n",
    "# output: (samples, query_maxlen, embedding_dim)"
   ]
  },
  {
   "cell_type": "code",
   "execution_count": 46,
   "id": "bb2852d0-648e-418b-bce5-0d4cdd3c1564",
   "metadata": {},
   "outputs": [],
   "source": [
    "# encode input sequence and questions (which are indices)\n",
    "# to sequences of dense vectors\n",
    "input_encoded_m = input_encoder_m(input_sequence)\n",
    "input_encoded_c = input_encoder_c(input_sequence)\n",
    "question_encoded = question_encoder(question)"
   ]
  },
  {
   "cell_type": "code",
   "execution_count": 47,
   "id": "2eb5af9a-64aa-4773-9ad8-435c3ea92425",
   "metadata": {},
   "outputs": [],
   "source": [
    "# shape: `(samples, story_maxlen, query_maxlen)`\n",
    "match = dot([input_encoded_m, question_encoded], axes=(2, 2))\n",
    "match = Activation('softmax')(match)"
   ]
  },
  {
   "cell_type": "code",
   "execution_count": 48,
   "id": "81b6b835-d139-40f9-a1d4-a75bfaadc442",
   "metadata": {},
   "outputs": [],
   "source": [
    "response = add([match, input_encoded_c])  # (samples, story_maxlen, query_maxlen)\n",
    "response = Permute((2, 1))(response)  # (samples, query_maxlen, story_maxlen)"
   ]
  },
  {
   "cell_type": "code",
   "execution_count": 49,
   "id": "f6be019c-07ec-449b-9db4-aa4b07659014",
   "metadata": {},
   "outputs": [],
   "source": [
    "answer = concatenate([response,question_encoded])"
   ]
  },
  {
   "cell_type": "code",
   "execution_count": 50,
   "id": "9cd4f3c5-5436-47f7-b0ef-c3b2e51287a6",
   "metadata": {},
   "outputs": [
    {
     "data": {
      "text/plain": [
       "<KerasTensor: shape=(None, 6, 220) dtype=float32 (created by layer 'concatenate')>"
      ]
     },
     "execution_count": 50,
     "metadata": {},
     "output_type": "execute_result"
    }
   ],
   "source": [
    "answer"
   ]
  },
  {
   "cell_type": "code",
   "execution_count": 51,
   "id": "fcdb347b-8594-4df2-a491-38e31b4aa408",
   "metadata": {},
   "outputs": [],
   "source": [
    "answer = LSTM(32)(answer)"
   ]
  },
  {
   "cell_type": "code",
   "execution_count": 52,
   "id": "bf8d8264-fc97-43c9-9a7a-834a93f69245",
   "metadata": {},
   "outputs": [],
   "source": [
    "answer = Dropout(0.5)(answer)\n",
    "answer = Dense(vocab_size)(answer) # (sample,vocab_size) # YES/NO 0000"
   ]
  },
  {
   "cell_type": "code",
   "execution_count": 54,
   "id": "95264c68-6708-4fe9-b8d8-63d567525416",
   "metadata": {},
   "outputs": [],
   "source": [
    "answer = Activation('softmax')(answer)"
   ]
  },
  {
   "cell_type": "code",
   "execution_count": 55,
   "id": "d492bfe8-ca16-4844-9f83-81693ad26047",
   "metadata": {},
   "outputs": [],
   "source": [
    "model = Model([input_sequence,question],answer)"
   ]
  },
  {
   "cell_type": "code",
   "execution_count": 56,
   "id": "ec801f0b-6b79-4e94-b6a4-38b15b129160",
   "metadata": {},
   "outputs": [],
   "source": [
    "model.compile(optimizer='rmsprop',loss='categorical_crossentropy',metrics=['accuracy'])"
   ]
  },
  {
   "cell_type": "code",
   "execution_count": 57,
   "id": "851639e0-ddc4-4bfe-abfc-8cfa69b8d33b",
   "metadata": {},
   "outputs": [
    {
     "name": "stdout",
     "output_type": "stream",
     "text": [
      "Model: \"model\"\n",
      "__________________________________________________________________________________________________\n",
      " Layer (type)                   Output Shape         Param #     Connected to                     \n",
      "==================================================================================================\n",
      " input_1 (InputLayer)           [(None, 156)]        0           []                               \n",
      "                                                                                                  \n",
      " input_2 (InputLayer)           [(None, 6)]          0           []                               \n",
      "                                                                                                  \n",
      " sequential (Sequential)        (None, None, 64)     2432        ['input_1[0][0]']                \n",
      "                                                                                                  \n",
      " sequential_2 (Sequential)      (None, 6, 64)        2432        ['input_2[0][0]']                \n",
      "                                                                                                  \n",
      " dot (Dot)                      (None, 156, 6)       0           ['sequential[0][0]',             \n",
      "                                                                  'sequential_2[0][0]']           \n",
      "                                                                                                  \n",
      " activation (Activation)        (None, 156, 6)       0           ['dot[0][0]']                    \n",
      "                                                                                                  \n",
      " sequential_1 (Sequential)      (None, None, 6)      228         ['input_1[0][0]']                \n",
      "                                                                                                  \n",
      " add (Add)                      (None, 156, 6)       0           ['activation[0][0]',             \n",
      "                                                                  'sequential_1[0][0]']           \n",
      "                                                                                                  \n",
      " permute (Permute)              (None, 6, 156)       0           ['add[0][0]']                    \n",
      "                                                                                                  \n",
      " concatenate (Concatenate)      (None, 6, 220)       0           ['permute[0][0]',                \n",
      "                                                                  'sequential_2[0][0]']           \n",
      "                                                                                                  \n",
      " lstm (LSTM)                    (None, 32)           32384       ['concatenate[0][0]']            \n",
      "                                                                                                  \n",
      " dropout_3 (Dropout)            (None, 32)           0           ['lstm[0][0]']                   \n",
      "                                                                                                  \n",
      " dense (Dense)                  (None, 38)           1254        ['dropout_3[0][0]']              \n",
      "                                                                                                  \n",
      " activation_1 (Activation)      (None, 38)           0           ['dense[0][0]']                  \n",
      "                                                                                                  \n",
      "==================================================================================================\n",
      "Total params: 38,730\n",
      "Trainable params: 38,730\n",
      "Non-trainable params: 0\n",
      "__________________________________________________________________________________________________\n"
     ]
    }
   ],
   "source": [
    "model.summary()"
   ]
  },
  {
   "cell_type": "code",
   "execution_count": 58,
   "id": "0998652b-1457-41d6-9f67-a6e59c5b6433",
   "metadata": {},
   "outputs": [
    {
     "name": "stdout",
     "output_type": "stream",
     "text": [
      "Epoch 1/120\n",
      "313/313 [==============================] - 10s 11ms/step - loss: 0.8743 - accuracy: 0.5061 - val_loss: 0.6948 - val_accuracy: 0.4970\n",
      "Epoch 2/120\n",
      "313/313 [==============================] - 3s 9ms/step - loss: 0.7043 - accuracy: 0.5070 - val_loss: 0.6933 - val_accuracy: 0.5030\n",
      "Epoch 3/120\n",
      "313/313 [==============================] - 3s 9ms/step - loss: 0.6968 - accuracy: 0.4966 - val_loss: 0.6932 - val_accuracy: 0.5030\n",
      "Epoch 4/120\n",
      "313/313 [==============================] - 3s 9ms/step - loss: 0.6951 - accuracy: 0.5009 - val_loss: 0.6937 - val_accuracy: 0.4970\n",
      "Epoch 5/120\n",
      "313/313 [==============================] - 3s 9ms/step - loss: 0.6951 - accuracy: 0.4938 - val_loss: 0.6948 - val_accuracy: 0.4970\n",
      "Epoch 6/120\n",
      "313/313 [==============================] - 3s 9ms/step - loss: 0.6945 - accuracy: 0.5029 - val_loss: 0.6938 - val_accuracy: 0.4970\n",
      "Epoch 7/120\n",
      "313/313 [==============================] - 3s 9ms/step - loss: 0.6939 - accuracy: 0.5108 - val_loss: 0.6939 - val_accuracy: 0.4970\n",
      "Epoch 8/120\n",
      "313/313 [==============================] - 3s 9ms/step - loss: 0.6939 - accuracy: 0.5050 - val_loss: 0.6946 - val_accuracy: 0.4970\n",
      "Epoch 9/120\n",
      "313/313 [==============================] - 3s 9ms/step - loss: 0.6950 - accuracy: 0.4931 - val_loss: 0.6966 - val_accuracy: 0.4970\n",
      "Epoch 10/120\n",
      "313/313 [==============================] - 3s 9ms/step - loss: 0.6938 - accuracy: 0.5062 - val_loss: 0.6938 - val_accuracy: 0.4930\n",
      "Epoch 11/120\n",
      "313/313 [==============================] - 3s 9ms/step - loss: 0.6933 - accuracy: 0.5058 - val_loss: 0.6932 - val_accuracy: 0.5350\n",
      "Epoch 12/120\n",
      "313/313 [==============================] - 3s 9ms/step - loss: 0.6866 - accuracy: 0.5475 - val_loss: 0.6824 - val_accuracy: 0.5480\n",
      "Epoch 13/120\n",
      "313/313 [==============================] - 3s 9ms/step - loss: 0.6658 - accuracy: 0.5972 - val_loss: 0.6516 - val_accuracy: 0.6350\n",
      "Epoch 14/120\n",
      "313/313 [==============================] - 3s 9ms/step - loss: 0.6519 - accuracy: 0.6287 - val_loss: 0.6440 - val_accuracy: 0.6320\n",
      "Epoch 15/120\n",
      "313/313 [==============================] - 3s 9ms/step - loss: 0.6388 - accuracy: 0.6404 - val_loss: 0.6328 - val_accuracy: 0.6550\n",
      "Epoch 16/120\n",
      "313/313 [==============================] - 3s 9ms/step - loss: 0.6292 - accuracy: 0.6538 - val_loss: 0.6215 - val_accuracy: 0.6580\n",
      "Epoch 17/120\n",
      "313/313 [==============================] - 3s 9ms/step - loss: 0.6180 - accuracy: 0.6640 - val_loss: 0.6063 - val_accuracy: 0.6790\n",
      "Epoch 18/120\n",
      "313/313 [==============================] - 3s 9ms/step - loss: 0.6028 - accuracy: 0.6769 - val_loss: 0.5886 - val_accuracy: 0.6830\n",
      "Epoch 19/120\n",
      "313/313 [==============================] - 3s 9ms/step - loss: 0.5937 - accuracy: 0.6820 - val_loss: 0.5853 - val_accuracy: 0.6820\n",
      "Epoch 20/120\n",
      "313/313 [==============================] - 3s 9ms/step - loss: 0.5708 - accuracy: 0.7063 - val_loss: 0.5652 - val_accuracy: 0.7080\n",
      "Epoch 21/120\n",
      "313/313 [==============================] - 3s 9ms/step - loss: 0.5570 - accuracy: 0.7178 - val_loss: 0.5351 - val_accuracy: 0.7350\n",
      "Epoch 22/120\n",
      "313/313 [==============================] - 3s 9ms/step - loss: 0.5420 - accuracy: 0.7241 - val_loss: 0.5349 - val_accuracy: 0.7380\n",
      "Epoch 23/120\n",
      "313/313 [==============================] - 3s 9ms/step - loss: 0.5325 - accuracy: 0.7252 - val_loss: 0.5171 - val_accuracy: 0.7310\n",
      "Epoch 24/120\n",
      "313/313 [==============================] - 3s 9ms/step - loss: 0.5239 - accuracy: 0.7327 - val_loss: 0.5315 - val_accuracy: 0.7450\n",
      "Epoch 25/120\n",
      "313/313 [==============================] - 3s 9ms/step - loss: 0.5211 - accuracy: 0.7348 - val_loss: 0.5262 - val_accuracy: 0.7280\n",
      "Epoch 26/120\n",
      "313/313 [==============================] - 3s 9ms/step - loss: 0.5165 - accuracy: 0.7428 - val_loss: 0.5051 - val_accuracy: 0.7350\n",
      "Epoch 27/120\n",
      "313/313 [==============================] - 3s 9ms/step - loss: 0.5068 - accuracy: 0.7499 - val_loss: 0.5095 - val_accuracy: 0.7350\n",
      "Epoch 28/120\n",
      "313/313 [==============================] - 3s 9ms/step - loss: 0.4973 - accuracy: 0.7527 - val_loss: 0.4966 - val_accuracy: 0.7410\n",
      "Epoch 29/120\n",
      "313/313 [==============================] - 3s 9ms/step - loss: 0.4901 - accuracy: 0.7585 - val_loss: 0.4908 - val_accuracy: 0.7520\n",
      "Epoch 30/120\n",
      "313/313 [==============================] - 3s 9ms/step - loss: 0.4802 - accuracy: 0.7619 - val_loss: 0.4785 - val_accuracy: 0.7450\n",
      "Epoch 31/120\n",
      "313/313 [==============================] - 3s 9ms/step - loss: 0.4740 - accuracy: 0.7653 - val_loss: 0.4830 - val_accuracy: 0.7600\n",
      "Epoch 32/120\n",
      "313/313 [==============================] - 3s 9ms/step - loss: 0.4658 - accuracy: 0.7753 - val_loss: 0.4788 - val_accuracy: 0.7520\n",
      "Epoch 33/120\n",
      "313/313 [==============================] - 3s 9ms/step - loss: 0.4574 - accuracy: 0.7736 - val_loss: 0.4628 - val_accuracy: 0.7720\n",
      "Epoch 34/120\n",
      "313/313 [==============================] - 3s 9ms/step - loss: 0.4516 - accuracy: 0.7800 - val_loss: 0.4645 - val_accuracy: 0.7670\n",
      "Epoch 35/120\n",
      "313/313 [==============================] - 3s 9ms/step - loss: 0.4401 - accuracy: 0.7869 - val_loss: 0.4656 - val_accuracy: 0.7620\n",
      "Epoch 36/120\n",
      "313/313 [==============================] - 3s 9ms/step - loss: 0.4339 - accuracy: 0.7919 - val_loss: 0.4664 - val_accuracy: 0.7710\n",
      "Epoch 37/120\n",
      "313/313 [==============================] - 3s 9ms/step - loss: 0.4321 - accuracy: 0.7883 - val_loss: 0.4654 - val_accuracy: 0.7720\n",
      "Epoch 38/120\n",
      "313/313 [==============================] - 3s 9ms/step - loss: 0.4204 - accuracy: 0.7990 - val_loss: 0.4545 - val_accuracy: 0.7640\n",
      "Epoch 39/120\n",
      "313/313 [==============================] - 3s 9ms/step - loss: 0.4174 - accuracy: 0.8021 - val_loss: 0.4477 - val_accuracy: 0.7790\n",
      "Epoch 40/120\n",
      "313/313 [==============================] - 3s 9ms/step - loss: 0.4099 - accuracy: 0.8029 - val_loss: 0.5035 - val_accuracy: 0.7680\n",
      "Epoch 41/120\n",
      "313/313 [==============================] - 3s 9ms/step - loss: 0.4067 - accuracy: 0.8081 - val_loss: 0.4683 - val_accuracy: 0.7780\n",
      "Epoch 42/120\n",
      "313/313 [==============================] - 3s 9ms/step - loss: 0.4037 - accuracy: 0.8141 - val_loss: 0.4869 - val_accuracy: 0.7740\n",
      "Epoch 43/120\n",
      "313/313 [==============================] - 3s 9ms/step - loss: 0.3975 - accuracy: 0.8144 - val_loss: 0.4634 - val_accuracy: 0.7740\n",
      "Epoch 44/120\n",
      "313/313 [==============================] - 3s 9ms/step - loss: 0.3939 - accuracy: 0.8166 - val_loss: 0.4786 - val_accuracy: 0.7760\n",
      "Epoch 45/120\n",
      "313/313 [==============================] - 3s 9ms/step - loss: 0.3905 - accuracy: 0.8171 - val_loss: 0.4591 - val_accuracy: 0.7780\n",
      "Epoch 46/120\n",
      "313/313 [==============================] - 3s 9ms/step - loss: 0.3838 - accuracy: 0.8229 - val_loss: 0.4551 - val_accuracy: 0.7830\n",
      "Epoch 47/120\n",
      "313/313 [==============================] - 3s 9ms/step - loss: 0.3798 - accuracy: 0.8254 - val_loss: 0.4524 - val_accuracy: 0.7790\n",
      "Epoch 48/120\n",
      "313/313 [==============================] - 3s 9ms/step - loss: 0.3845 - accuracy: 0.8204 - val_loss: 0.4591 - val_accuracy: 0.7820\n",
      "Epoch 49/120\n",
      "313/313 [==============================] - 3s 9ms/step - loss: 0.3800 - accuracy: 0.8264 - val_loss: 0.4616 - val_accuracy: 0.7790\n",
      "Epoch 50/120\n",
      "313/313 [==============================] - 3s 9ms/step - loss: 0.3718 - accuracy: 0.8246 - val_loss: 0.4625 - val_accuracy: 0.7820\n",
      "Epoch 51/120\n",
      "313/313 [==============================] - 3s 9ms/step - loss: 0.3692 - accuracy: 0.8272 - val_loss: 0.4920 - val_accuracy: 0.7730\n",
      "Epoch 52/120\n",
      "313/313 [==============================] - 3s 9ms/step - loss: 0.3723 - accuracy: 0.8291 - val_loss: 0.4556 - val_accuracy: 0.7780\n",
      "Epoch 53/120\n",
      "313/313 [==============================] - 3s 9ms/step - loss: 0.3708 - accuracy: 0.8288 - val_loss: 0.4516 - val_accuracy: 0.7860\n",
      "Epoch 54/120\n",
      "313/313 [==============================] - 3s 9ms/step - loss: 0.3532 - accuracy: 0.8364 - val_loss: 0.4879 - val_accuracy: 0.7840\n",
      "Epoch 55/120\n",
      "313/313 [==============================] - 3s 9ms/step - loss: 0.3659 - accuracy: 0.8338 - val_loss: 0.4790 - val_accuracy: 0.7770\n",
      "Epoch 56/120\n",
      "313/313 [==============================] - 3s 9ms/step - loss: 0.3609 - accuracy: 0.8316 - val_loss: 0.4665 - val_accuracy: 0.7720\n",
      "Epoch 57/120\n",
      "313/313 [==============================] - 3s 9ms/step - loss: 0.3602 - accuracy: 0.8285 - val_loss: 0.4942 - val_accuracy: 0.7780\n",
      "Epoch 58/120\n",
      "313/313 [==============================] - 3s 9ms/step - loss: 0.3574 - accuracy: 0.8349 - val_loss: 0.4957 - val_accuracy: 0.7840\n",
      "Epoch 59/120\n",
      "313/313 [==============================] - 3s 9ms/step - loss: 0.3544 - accuracy: 0.8354 - val_loss: 0.4788 - val_accuracy: 0.7830\n",
      "Epoch 60/120\n",
      "313/313 [==============================] - 3s 9ms/step - loss: 0.3557 - accuracy: 0.8365 - val_loss: 0.4710 - val_accuracy: 0.7780\n",
      "Epoch 61/120\n",
      "313/313 [==============================] - 3s 9ms/step - loss: 0.3528 - accuracy: 0.8393 - val_loss: 0.4793 - val_accuracy: 0.7820\n",
      "Epoch 62/120\n",
      "313/313 [==============================] - 3s 9ms/step - loss: 0.3482 - accuracy: 0.8421 - val_loss: 0.4798 - val_accuracy: 0.7760\n",
      "Epoch 63/120\n",
      "313/313 [==============================] - 3s 9ms/step - loss: 0.3461 - accuracy: 0.8419 - val_loss: 0.4717 - val_accuracy: 0.7780\n",
      "Epoch 64/120\n",
      "313/313 [==============================] - 3s 9ms/step - loss: 0.3439 - accuracy: 0.8468 - val_loss: 0.4813 - val_accuracy: 0.7820\n",
      "Epoch 65/120\n",
      "313/313 [==============================] - 3s 9ms/step - loss: 0.3465 - accuracy: 0.8390 - val_loss: 0.4805 - val_accuracy: 0.7830\n",
      "Epoch 66/120\n",
      "313/313 [==============================] - 3s 9ms/step - loss: 0.3415 - accuracy: 0.8449 - val_loss: 0.5069 - val_accuracy: 0.7740\n",
      "Epoch 67/120\n",
      "313/313 [==============================] - 3s 9ms/step - loss: 0.3352 - accuracy: 0.8482 - val_loss: 0.5027 - val_accuracy: 0.7750\n",
      "Epoch 68/120\n",
      "313/313 [==============================] - 3s 9ms/step - loss: 0.3345 - accuracy: 0.8461 - val_loss: 0.4951 - val_accuracy: 0.7810\n",
      "Epoch 69/120\n",
      "313/313 [==============================] - 3s 9ms/step - loss: 0.3324 - accuracy: 0.8489 - val_loss: 0.5036 - val_accuracy: 0.7710\n",
      "Epoch 70/120\n",
      "313/313 [==============================] - 3s 9ms/step - loss: 0.3315 - accuracy: 0.8485 - val_loss: 0.5098 - val_accuracy: 0.7780\n",
      "Epoch 71/120\n",
      "313/313 [==============================] - 3s 9ms/step - loss: 0.3281 - accuracy: 0.8521 - val_loss: 0.4863 - val_accuracy: 0.7880\n",
      "Epoch 72/120\n",
      "313/313 [==============================] - 3s 9ms/step - loss: 0.3178 - accuracy: 0.8576 - val_loss: 0.5101 - val_accuracy: 0.7830\n",
      "Epoch 73/120\n",
      "313/313 [==============================] - 3s 9ms/step - loss: 0.3185 - accuracy: 0.8556 - val_loss: 0.5781 - val_accuracy: 0.7610\n",
      "Epoch 74/120\n",
      "313/313 [==============================] - 3s 9ms/step - loss: 0.3130 - accuracy: 0.8608 - val_loss: 0.4987 - val_accuracy: 0.7840\n",
      "Epoch 75/120\n",
      "313/313 [==============================] - 3s 9ms/step - loss: 0.3211 - accuracy: 0.8581 - val_loss: 0.5286 - val_accuracy: 0.7820\n",
      "Epoch 76/120\n",
      "313/313 [==============================] - 3s 9ms/step - loss: 0.3131 - accuracy: 0.8609 - val_loss: 0.4976 - val_accuracy: 0.7920\n",
      "Epoch 77/120\n",
      "313/313 [==============================] - 3s 9ms/step - loss: 0.3142 - accuracy: 0.8632 - val_loss: 0.4888 - val_accuracy: 0.7770\n",
      "Epoch 78/120\n",
      "313/313 [==============================] - 3s 9ms/step - loss: 0.3067 - accuracy: 0.8673 - val_loss: 0.5134 - val_accuracy: 0.7840\n",
      "Epoch 79/120\n",
      "313/313 [==============================] - 3s 9ms/step - loss: 0.3030 - accuracy: 0.8701 - val_loss: 0.5115 - val_accuracy: 0.7910\n",
      "Epoch 80/120\n",
      "313/313 [==============================] - 3s 9ms/step - loss: 0.3050 - accuracy: 0.8672 - val_loss: 0.5018 - val_accuracy: 0.7930\n",
      "Epoch 81/120\n",
      "313/313 [==============================] - 3s 9ms/step - loss: 0.3048 - accuracy: 0.8698 - val_loss: 0.4858 - val_accuracy: 0.7900\n",
      "Epoch 82/120\n",
      "313/313 [==============================] - 3s 9ms/step - loss: 0.2966 - accuracy: 0.8691 - val_loss: 0.5154 - val_accuracy: 0.7890\n",
      "Epoch 83/120\n",
      "313/313 [==============================] - 3s 9ms/step - loss: 0.2995 - accuracy: 0.8722 - val_loss: 0.5019 - val_accuracy: 0.7960\n",
      "Epoch 84/120\n",
      "313/313 [==============================] - 3s 9ms/step - loss: 0.2938 - accuracy: 0.8770 - val_loss: 0.4907 - val_accuracy: 0.7910\n",
      "Epoch 85/120\n",
      "313/313 [==============================] - 3s 9ms/step - loss: 0.2930 - accuracy: 0.8760 - val_loss: 0.5134 - val_accuracy: 0.7790\n",
      "Epoch 86/120\n",
      "313/313 [==============================] - 3s 9ms/step - loss: 0.2970 - accuracy: 0.8727 - val_loss: 0.5054 - val_accuracy: 0.7930\n",
      "Epoch 87/120\n",
      "313/313 [==============================] - 3s 9ms/step - loss: 0.2929 - accuracy: 0.8742 - val_loss: 0.5089 - val_accuracy: 0.7920\n",
      "Epoch 88/120\n",
      "313/313 [==============================] - 3s 9ms/step - loss: 0.2884 - accuracy: 0.8741 - val_loss: 0.4927 - val_accuracy: 0.7940\n",
      "Epoch 89/120\n",
      "313/313 [==============================] - 3s 9ms/step - loss: 0.2868 - accuracy: 0.8786 - val_loss: 0.5125 - val_accuracy: 0.7980\n",
      "Epoch 90/120\n",
      "313/313 [==============================] - 3s 9ms/step - loss: 0.2880 - accuracy: 0.8760 - val_loss: 0.4901 - val_accuracy: 0.8040\n",
      "Epoch 91/120\n",
      "313/313 [==============================] - 3s 9ms/step - loss: 0.2876 - accuracy: 0.8796 - val_loss: 0.5017 - val_accuracy: 0.7970\n",
      "Epoch 92/120\n",
      "313/313 [==============================] - 3s 9ms/step - loss: 0.2827 - accuracy: 0.8821 - val_loss: 0.5486 - val_accuracy: 0.8000\n",
      "Epoch 93/120\n",
      "313/313 [==============================] - 3s 9ms/step - loss: 0.2844 - accuracy: 0.8799 - val_loss: 0.5158 - val_accuracy: 0.7970\n",
      "Epoch 94/120\n",
      "313/313 [==============================] - 3s 9ms/step - loss: 0.2779 - accuracy: 0.8812 - val_loss: 0.5138 - val_accuracy: 0.8070\n",
      "Epoch 95/120\n",
      "313/313 [==============================] - 3s 9ms/step - loss: 0.2785 - accuracy: 0.8852 - val_loss: 0.5231 - val_accuracy: 0.8070\n",
      "Epoch 96/120\n",
      "313/313 [==============================] - 3s 9ms/step - loss: 0.2744 - accuracy: 0.8793 - val_loss: 0.5160 - val_accuracy: 0.8080\n",
      "Epoch 97/120\n",
      "313/313 [==============================] - 3s 9ms/step - loss: 0.2722 - accuracy: 0.8849 - val_loss: 0.5211 - val_accuracy: 0.7920\n",
      "Epoch 98/120\n",
      "313/313 [==============================] - 3s 9ms/step - loss: 0.2735 - accuracy: 0.8879 - val_loss: 0.5082 - val_accuracy: 0.8070\n",
      "Epoch 99/120\n",
      "313/313 [==============================] - 3s 9ms/step - loss: 0.2721 - accuracy: 0.8884 - val_loss: 0.4933 - val_accuracy: 0.8100\n",
      "Epoch 100/120\n",
      "313/313 [==============================] - 3s 9ms/step - loss: 0.2702 - accuracy: 0.8842 - val_loss: 0.5104 - val_accuracy: 0.7970\n",
      "Epoch 101/120\n",
      "313/313 [==============================] - 3s 9ms/step - loss: 0.2651 - accuracy: 0.8855 - val_loss: 0.5411 - val_accuracy: 0.7960\n",
      "Epoch 102/120\n",
      "313/313 [==============================] - 3s 9ms/step - loss: 0.2629 - accuracy: 0.8898 - val_loss: 0.5417 - val_accuracy: 0.7960\n",
      "Epoch 103/120\n",
      "313/313 [==============================] - 3s 9ms/step - loss: 0.2671 - accuracy: 0.8886 - val_loss: 0.5007 - val_accuracy: 0.8080\n",
      "Epoch 104/120\n",
      "313/313 [==============================] - 3s 9ms/step - loss: 0.2624 - accuracy: 0.8901 - val_loss: 0.5278 - val_accuracy: 0.7960\n",
      "Epoch 105/120\n",
      "313/313 [==============================] - 3s 9ms/step - loss: 0.2608 - accuracy: 0.8911 - val_loss: 0.5383 - val_accuracy: 0.7980\n",
      "Epoch 106/120\n",
      "313/313 [==============================] - 3s 9ms/step - loss: 0.2532 - accuracy: 0.8962 - val_loss: 0.5231 - val_accuracy: 0.8070\n",
      "Epoch 107/120\n",
      "313/313 [==============================] - 3s 9ms/step - loss: 0.2518 - accuracy: 0.8965 - val_loss: 0.5023 - val_accuracy: 0.8110\n",
      "Epoch 108/120\n",
      "313/313 [==============================] - 3s 9ms/step - loss: 0.2555 - accuracy: 0.8974 - val_loss: 0.5306 - val_accuracy: 0.7980\n",
      "Epoch 109/120\n",
      "313/313 [==============================] - 3s 9ms/step - loss: 0.2537 - accuracy: 0.8953 - val_loss: 0.5644 - val_accuracy: 0.7990\n",
      "Epoch 110/120\n",
      "313/313 [==============================] - 3s 9ms/step - loss: 0.2505 - accuracy: 0.8974 - val_loss: 0.5288 - val_accuracy: 0.8030\n",
      "Epoch 111/120\n",
      "313/313 [==============================] - 3s 9ms/step - loss: 0.2556 - accuracy: 0.8932 - val_loss: 0.5431 - val_accuracy: 0.8010\n",
      "Epoch 112/120\n",
      "313/313 [==============================] - 3s 9ms/step - loss: 0.2481 - accuracy: 0.8994 - val_loss: 0.5728 - val_accuracy: 0.7950\n",
      "Epoch 113/120\n",
      "313/313 [==============================] - 3s 9ms/step - loss: 0.2471 - accuracy: 0.8976 - val_loss: 0.5728 - val_accuracy: 0.8000\n",
      "Epoch 114/120\n",
      "313/313 [==============================] - 3s 9ms/step - loss: 0.2404 - accuracy: 0.9013 - val_loss: 0.5487 - val_accuracy: 0.7970\n",
      "Epoch 115/120\n",
      "313/313 [==============================] - 3s 8ms/step - loss: 0.2454 - accuracy: 0.8984 - val_loss: 0.5691 - val_accuracy: 0.7970\n",
      "Epoch 116/120\n",
      "313/313 [==============================] - 3s 9ms/step - loss: 0.2483 - accuracy: 0.9004 - val_loss: 0.5428 - val_accuracy: 0.8030\n",
      "Epoch 117/120\n",
      "313/313 [==============================] - 3s 9ms/step - loss: 0.2510 - accuracy: 0.8935 - val_loss: 0.5663 - val_accuracy: 0.7990\n",
      "Epoch 118/120\n",
      "313/313 [==============================] - 3s 9ms/step - loss: 0.2433 - accuracy: 0.9011 - val_loss: 0.5630 - val_accuracy: 0.8070\n",
      "Epoch 119/120\n",
      "313/313 [==============================] - 3s 9ms/step - loss: 0.2405 - accuracy: 0.8995 - val_loss: 0.5881 - val_accuracy: 0.7990\n",
      "Epoch 120/120\n",
      "313/313 [==============================] - 3s 9ms/step - loss: 0.2443 - accuracy: 0.8966 - val_loss: 0.5573 - val_accuracy: 0.7920\n"
     ]
    }
   ],
   "source": [
    "history = model.fit([inputs_train, queries_train], answers_train,batch_size=32,epochs=120,validation_data=([inputs_test, queries_test], answers_test))"
   ]
  },
  {
   "cell_type": "code",
   "execution_count": 60,
   "id": "4d7fe280-fd0b-476d-9054-20ed49b7b9d1",
   "metadata": {},
   "outputs": [
    {
     "name": "stdout",
     "output_type": "stream",
     "text": [
      "dict_keys(['loss', 'accuracy', 'val_loss', 'val_accuracy'])\n"
     ]
    },
    {
     "data": {
      "image/png": "[encoded data removed]",
      "text/plain": [
       "<Figure size 640x480 with 1 Axes>"
      ]
     },
     "metadata": {},
     "output_type": "display_data"
    }
   ],
   "source": [
    "import matplotlib.pyplot as plt\n",
    "%matplotlib inline\n",
    "print(history.history.keys())\n",
    "# summarize history for accuracy\n",
    "plt.plot(history.history['accuracy'])\n",
    "plt.plot(history.history['val_accuracy'])\n",
    "plt.title('model accuracy')\n",
    "plt.ylabel('accuracy')\n",
    "plt.xlabel('epoch')\n",
    "plt.legend(['train', 'test'], loc='upper left')\n",
    "plt.show()"
   ]
  },
  {
   "cell_type": "code",
   "execution_count": 61,
   "id": "fd20a224-cfc3-4e0e-b4bb-eb986f5d0e4d",
   "metadata": {},
   "outputs": [],
   "source": [
    "model.save('chatbot.h5')"
   ]
  },
  {
   "cell_type": "code",
   "execution_count": 62,
   "id": "59132709-f750-4484-abcf-094dfcf809ea",
   "metadata": {},
   "outputs": [],
   "source": [
    "model.load_weights('chatbot.h5')"
   ]
  },
  {
   "cell_type": "code",
   "execution_count": 63,
   "id": "5465b86b-1189-4b23-b9c1-a82aa8a14c8d",
   "metadata": {},
   "outputs": [
    {
     "name": "stdout",
     "output_type": "stream",
     "text": [
      "32/32 [==============================] - 0s 5ms/step\n"
     ]
    }
   ],
   "source": [
    "pred_results = model.predict(([inputs_test, queries_test]))"
   ]
  },
  {
   "cell_type": "code",
   "execution_count": 65,
   "id": "6643cd69-4281-4306-86bb-208c320b164d",
   "metadata": {},
   "outputs": [
    {
     "data": {
      "text/plain": [
       "['Mary',\n",
       " 'got',\n",
       " 'the',\n",
       " 'milk',\n",
       " 'there',\n",
       " '.',\n",
       " 'John',\n",
       " 'moved',\n",
       " 'to',\n",
       " 'the',\n",
       " 'bedroom',\n",
       " '.']"
      ]
     },
     "execution_count": 65,
     "metadata": {},
     "output_type": "execute_result"
    }
   ],
   "source": [
    "test_data[0][0]"
   ]
  },
  {
   "cell_type": "code",
   "execution_count": 68,
   "id": "465d50b8-9663-4d3c-9a3c-6e4dae298277",
   "metadata": {},
   "outputs": [
    {
     "data": {
      "text/plain": [
       "array([6.9388370e-11, 7.1501333e-11, 7.7024803e-11, 7.4482191e-11,\n",
       "       7.4451230e-11, 6.8165786e-11, 7.7504642e-11, 6.6829882e-11,\n",
       "       7.6245725e-11, 6.9289838e-11, 7.2967500e-11, 7.2554900e-11,\n",
       "       8.0539984e-11, 7.7123148e-11, 7.1496697e-11, 6.4843200e-11,\n",
       "       7.2854438e-11, 1.2030798e-02, 7.1490425e-11, 6.8631129e-11,\n",
       "       6.9830891e-11, 6.8320294e-11, 6.7585666e-11, 7.7220744e-11,\n",
       "       7.4748319e-11, 6.5179737e-11, 6.5587036e-11, 7.3957424e-11,\n",
       "       7.5562535e-11, 7.4307088e-11, 7.0363146e-11, 7.6827024e-11,\n",
       "       7.0576454e-11, 9.8796916e-01, 7.8601979e-11, 7.8906312e-11,\n",
       "       6.8656011e-11, 6.9921513e-11], dtype=float32)"
      ]
     },
     "execution_count": 68,
     "metadata": {},
     "output_type": "execute_result"
    }
   ],
   "source": [
    "pred_results[0]"
   ]
  },
  {
   "cell_type": "code",
   "execution_count": 69,
   "id": "34dd0537-35f7-4704-8486-86b045c9e4a0",
   "metadata": {},
   "outputs": [],
   "source": [
    "val_max = np.argmax(pred_results[0])"
   ]
  },
  {
   "cell_type": "code",
   "execution_count": 70,
   "id": "ada61a40-a3f4-4ab3-8eb6-7416c397c339",
   "metadata": {},
   "outputs": [
    {
     "name": "stdout",
     "output_type": "stream",
     "text": [
      "Predicted answer is:  no\n",
      "Probability of certainty was:  0.98796916\n"
     ]
    }
   ],
   "source": [
    "for key, val in tokenizer.word_index.items():\n",
    "    if val == val_max:\n",
    "        k = key\n",
    "\n",
    "print(\"Predicted answer is: \", k)\n",
    "print(\"Probability of certainty was: \", pred_results[0][val_max])"
   ]
  },
  {
   "cell_type": "code",
   "execution_count": 71,
   "id": "3cdf4827-439f-4318-8667-ffc808b2457e",
   "metadata": {},
   "outputs": [
    {
     "data": {
      "text/plain": [
       "{'.',\n",
       " '?',\n",
       " 'Daniel',\n",
       " 'Is',\n",
       " 'John',\n",
       " 'Mary',\n",
       " 'Sandra',\n",
       " 'apple',\n",
       " 'back',\n",
       " 'bathroom',\n",
       " 'bedroom',\n",
       " 'discarded',\n",
       " 'down',\n",
       " 'dropped',\n",
       " 'football',\n",
       " 'garden',\n",
       " 'got',\n",
       " 'grabbed',\n",
       " 'hallway',\n",
       " 'in',\n",
       " 'journeyed',\n",
       " 'kitchen',\n",
       " 'left',\n",
       " 'milk',\n",
       " 'moved',\n",
       " 'no',\n",
       " 'office',\n",
       " 'picked',\n",
       " 'put',\n",
       " 'the',\n",
       " 'there',\n",
       " 'to',\n",
       " 'took',\n",
       " 'travelled',\n",
       " 'up',\n",
       " 'went',\n",
       " 'yes'}"
      ]
     },
     "execution_count": 71,
     "metadata": {},
     "output_type": "execute_result"
    }
   ],
   "source": [
    "vocab"
   ]
  },
  {
   "cell_type": "code",
   "execution_count": 72,
   "id": "ed0c5e74-8b1c-4351-90a5-18725f17711b",
   "metadata": {},
   "outputs": [
    {
     "data": {
      "text/plain": [
       "['John',\n",
       " 'left',\n",
       " 'the',\n",
       " 'kitchen',\n",
       " '.',\n",
       " 'Sandra',\n",
       " 'dropped',\n",
       " 'the',\n",
       " 'football',\n",
       " 'in',\n",
       " 'the',\n",
       " 'garden',\n",
       " '.']"
      ]
     },
     "execution_count": 72,
     "metadata": {},
     "output_type": "execute_result"
    }
   ],
   "source": [
    "my_story = \"John left the kitchen . Sandra dropped the football in the garden .\"\n",
    "my_story.split()"
   ]
  },
  {
   "cell_type": "code",
   "execution_count": 73,
   "id": "a6ddda72-ea62-4d5c-b529-ed053d8b0fa7",
   "metadata": {},
   "outputs": [],
   "source": [
    "my_question = \"Is the football in the garden ?\""
   ]
  },
  {
   "cell_type": "code",
   "execution_count": 74,
   "id": "20c1767c-0e10-45a9-9d67-e61487b19536",
   "metadata": {},
   "outputs": [
    {
     "data": {
      "text/plain": [
       "['Is', 'the', 'football', 'in', 'the', 'garden', '?']"
      ]
     },
     "execution_count": 74,
     "metadata": {},
     "output_type": "execute_result"
    }
   ],
   "source": [
    "my_question.split()"
   ]
  },
  {
   "cell_type": "code",
   "execution_count": 75,
   "id": "208be07e-ff66-4667-b845-5c8dfafe7473",
   "metadata": {},
   "outputs": [],
   "source": [
    "mydata = [(my_story.split(),my_question.split(),'yes')]"
   ]
  },
  {
   "cell_type": "code",
   "execution_count": 76,
   "id": "d0828f6c-ac10-4c0c-b5fb-55f3bd1983e6",
   "metadata": {},
   "outputs": [],
   "source": [
    "my_story,my_ques,my_ans = vectorize_stories(mydata)"
   ]
  },
  {
   "cell_type": "code",
   "execution_count": 77,
   "id": "9abf76da-90f9-4937-94c7-61db32168eda",
   "metadata": {},
   "outputs": [
    {
     "name": "stdout",
     "output_type": "stream",
     "text": [
      "1/1 [==============================] - 0s 20ms/step\n"
     ]
    }
   ],
   "source": [
    "pred_results = model.predict(([ my_story, my_ques]))"
   ]
  },
  {
   "cell_type": "code",
   "execution_count": 78,
   "id": "8498ad91-a85c-4e26-9765-cc541b9769d7",
   "metadata": {},
   "outputs": [
    {
     "name": "stdout",
     "output_type": "stream",
     "text": [
      "Predicted answer is:  yes\n",
      "Probability of certainty was:  0.9646612\n"
     ]
    }
   ],
   "source": [
    "val_max = np.argmax(pred_results[0])\n",
    "\n",
    "for key, val in tokenizer.word_index.items():\n",
    "    if val == val_max:\n",
    "        k = key\n",
    "\n",
    "print(\"Predicted answer is: \", k)\n",
    "print(\"Probability of certainty was: \", pred_results[0][val_max])"
   ]
  },
  {
   "cell_type": "code",
   "execution_count": null,
   "id": "6161ef5f-3023-4c60-8785-43b96bb1ed0b",
   "metadata": {},
   "outputs": [],
   "source": []
  }
 ],
 "metadata": {
  "kernelspec": {
   "display_name": "Python 3 (ipykernel)",
   "language": "python",
   "name": "python3"
  },
  "language_info": {
   "codemirror_mode": {
    "name": "ipython",
    "version": 3
   },
   "file_extension": ".py",
   "mimetype": "text/x-python",
   "name": "python",
   "nbconvert_exporter": "python",
   "pygments_lexer": "ipython3",
   "version": "3.8.13"
  }
 },
 "nbformat": 4,
 "nbformat_minor": 5
}
