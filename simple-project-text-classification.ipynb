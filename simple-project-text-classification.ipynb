{
 "cells": [
  {
   "cell_type": "code",
   "execution_count": 1,
   "id": "0a640f6c-b9cf-430c-95f2-fe6bcee97087",
   "metadata": {},
   "outputs": [],
   "source": [
    "import numpy as np\n",
    "import pandas as pd"
   ]
  },
  {
   "cell_type": "code",
   "execution_count": 2,
   "id": "58510684-1391-49fe-be5b-c8d3b3aaffc9",
   "metadata": {},
   "outputs": [],
   "source": [
    "df = pd.read_csv('C:\\\\Users\\\\eobuobi\\\\trial\\\\nlp_project\\\\data\\\\final\\\\moviereviews.tsv', sep='\\t')"
   ]
  },
  {
   "cell_type": "code",
   "execution_count": 3,
   "id": "5e05ee56-5f79-448f-beb3-4d59031bf192",
   "metadata": {},
   "outputs": [
    {
     "data": {
      "text/html": [
       "<div>\n",
       "<style scoped>\n",
       "    .dataframe tbody tr th:only-of-type {\n",
       "        vertical-align: middle;\n",
       "    }\n",
       "\n",
       "    .dataframe tbody tr th {\n",
       "        vertical-align: top;\n",
       "    }\n",
       "\n",
       "    .dataframe thead th {\n",
       "        text-align: right;\n",
       "    }\n",
       "</style>\n",
       "<table border=\"1\" class=\"dataframe\">\n",
       "  <thead>\n",
       "    <tr style=\"text-align: right;\">\n",
       "      <th></th>\n",
       "      <th>label</th>\n",
       "      <th>review</th>\n",
       "    </tr>\n",
       "  </thead>\n",
       "  <tbody>\n",
       "    <tr>\n",
       "      <th>0</th>\n",
       "      <td>neg</td>\n",
       "      <td>how do films like mouse hunt get into theatres...</td>\n",
       "    </tr>\n",
       "    <tr>\n",
       "      <th>1</th>\n",
       "      <td>neg</td>\n",
       "      <td>some talented actresses are blessed with a dem...</td>\n",
       "    </tr>\n",
       "    <tr>\n",
       "      <th>2</th>\n",
       "      <td>pos</td>\n",
       "      <td>this has been an extraordinary year for austra...</td>\n",
       "    </tr>\n",
       "    <tr>\n",
       "      <th>3</th>\n",
       "      <td>pos</td>\n",
       "      <td>according to hollywood movies made in last few...</td>\n",
       "    </tr>\n",
       "    <tr>\n",
       "      <th>4</th>\n",
       "      <td>neg</td>\n",
       "      <td>my first press screening of 1998 and already i...</td>\n",
       "    </tr>\n",
       "  </tbody>\n",
       "</table>\n",
       "</div>"
      ],
      "text/plain": [
       "  label                                             review\n",
       "0   neg  how do films like mouse hunt get into theatres...\n",
       "1   neg  some talented actresses are blessed with a dem...\n",
       "2   pos  this has been an extraordinary year for austra...\n",
       "3   pos  according to hollywood movies made in last few...\n",
       "4   neg  my first press screening of 1998 and already i..."
      ]
     },
     "execution_count": 3,
     "metadata": {},
     "output_type": "execute_result"
    }
   ],
   "source": [
    "df.head()"
   ]
  },
  {
   "cell_type": "code",
   "execution_count": 4,
   "id": "b75b4c66-b82f-48a9-9d11-36a5551e9f83",
   "metadata": {},
   "outputs": [
    {
     "data": {
      "text/plain": [
       "2000"
      ]
     },
     "execution_count": 4,
     "metadata": {},
     "output_type": "execute_result"
    }
   ],
   "source": [
    "len(df)"
   ]
  },
  {
   "cell_type": "code",
   "execution_count": 6,
   "id": "d725e9e0-db5e-4cd0-a463-a8e542ff468a",
   "metadata": {},
   "outputs": [
    {
     "data": {
      "text/plain": [
       "'this has been an extraordinary year for australian films . \\r\\n \" shine \" has just scooped the pool at the australian film institute awards , picking up best film , best actor , best director etc . to that we can add the gritty \" life \" ( the anguish , courage and friendship of a group of male prisoners in the hiv-positive section of a jail ) and \" love and other catastrophes \" ( a low budget gem about straight and gay love on and near a university campus ) . \\r\\ni can\\'t recall a year in which such a rich and varied celluloid library was unleashed from australia . \\r\\n \" shine \" was one bookend . \\r\\nstand by for the other one : \" dead heart \" . \\r\\n>from the opening credits the theme of division is established . \\r\\nthe cast credits have clear and distinct lines separating their first and last names . \\r\\nbryan | brown . \\r\\nin a desert settlement , hundreds of kilometres from the nearest town , there is an uneasy calm between the local aboriginals and the handful of white settlers who live nearby . \\r\\nthe local police officer has the task of enforcing \" white man\\'s justice \" to the aboriginals . \\r\\nthese are people with a proud 40 , 000 year heritage behind them . \\r\\nnaturally , this includes their own system of justice ; key to which is \" payback \" . \\r\\nan eye for an eye . \\r\\nrevenge . \\r\\nusually extracted by the spearing through of the recipient\\'s thigh . \\r\\nbrown , as the officer , manages quite well to keep the balance . \\r\\nhe admits that he has to \\'bend the rules\\' a bit , including actively encouraging at least one brutal \" payback \" . \\r\\n ( be warned that this scene , near the start , is not for the squeamish ) . \\r\\nthe local priest - an aboriginal , but in the \" white fellas \" church - has a foot on either side of the line . \\r\\nhe is , figuratively and literally , in both camps . \\r\\nernie dingo brings a great deal of understanding to this role as the man in the middle . \\r\\nhe is part churchman and part politician . \\r\\nhowever the tension , like the heat , flies and dust , is always there . \\r\\nwhilst her husband - the local teacher - is in church , white lady kate ( milliken ) and her aborginal friend tony , ( pedersen ) have gone off into the hills . \\r\\nhe takes her to a sacred site , even today strictly men-only . \\r\\nshe appears to not know this . \\r\\ntony tells her that this is a special place , an initiation place . \\r\\nhe then makes love to her , surrounded by ancient rock art . \\r\\nthe community finds out about this sacrilegious act and it\\'s payback time . \\r\\nthe fuse is lit and the brittle inter-racial peace is shattered . \\r\\neveryone is affected in the fall out . \\r\\nto say more is to give away the details of this finely crafted film . \\r\\nsuffice to say it\\'s a rewarding experience . \\r\\nbryan brown , acting and co-producing , is the pivotal character . \\r\\nhis officer is real , human and therefore flawed . \\r\\nbrown comments that he expects audiences to feel warmth towards the man , then suddenly feel angry about him . \\r\\nit wasn\\'t long ago that i visited central australia - ayers rock ( uluru ) and alice springs - for the first time . \\r\\nthe wide-screen cinematography shows the dead heart of australia in a way that captures it\\'s vicious beauty , but never deteriorates into a moving slide show , in which the gorgeous background dominates those pesky actors in the foreground . \\r\\nthe cultural clash has provided the thesis for many a film ; from the western to the birdcage . \\r\\nat least three excellent australian films have covered the aboriginal people and the line between them and we anglo-saxon \\'invaders\\' : \" jedda \" , \" the chant of jimmie blacksmith \" and \" the last wave \" . \\r\\nin a year when the race \\'debate\\' has reared up in australia , it is nourishing to see such an intelligent , non-judgemental film as \" dead heart \" . \\r\\nthe aboriginal priest best sums this up . \\r\\nhe is asked to say if he is a \" black fella or white fella \" . \\r\\n'"
      ]
     },
     "execution_count": 6,
     "metadata": {},
     "output_type": "execute_result"
    }
   ],
   "source": [
    "df['review'][2]"
   ]
  },
  {
   "cell_type": "code",
   "execution_count": 7,
   "id": "67dffcd1-705e-4514-8e77-079bec1b9f92",
   "metadata": {},
   "outputs": [
    {
     "data": {
      "text/plain": [
       "label      0\n",
       "review    35\n",
       "dtype: int64"
      ]
     },
     "execution_count": 7,
     "metadata": {},
     "output_type": "execute_result"
    }
   ],
   "source": [
    "df.isnull().sum()"
   ]
  },
  {
   "cell_type": "code",
   "execution_count": 8,
   "id": "d83fd6a2-856d-4526-9479-267fab728366",
   "metadata": {},
   "outputs": [],
   "source": [
    "df.dropna(inplace=True)"
   ]
  },
  {
   "cell_type": "code",
   "execution_count": 9,
   "id": "71e3a4c9-f130-48c0-9836-f59eeaead795",
   "metadata": {},
   "outputs": [
    {
     "data": {
      "text/plain": [
       "label     0\n",
       "review    0\n",
       "dtype: int64"
      ]
     },
     "execution_count": 9,
     "metadata": {},
     "output_type": "execute_result"
    }
   ],
   "source": [
    "df.isnull().sum()"
   ]
  },
  {
   "cell_type": "code",
   "execution_count": 18,
   "id": "dab07d9d-1f24-4307-8f41-3fe51e31d0ec",
   "metadata": {},
   "outputs": [],
   "source": [
    "blanks = []\n",
    "\n",
    "for i,lb,rv in df.itertuples():\n",
    "    if rv.isspace():\n",
    "        blanks.append(i)"
   ]
  },
  {
   "cell_type": "code",
   "execution_count": 19,
   "id": "aa04caee-55b6-440b-a336-b3c27ad0b560",
   "metadata": {},
   "outputs": [
    {
     "data": {
      "text/plain": [
       "[57,\n",
       " 71,\n",
       " 147,\n",
       " 151,\n",
       " 283,\n",
       " 307,\n",
       " 313,\n",
       " 323,\n",
       " 343,\n",
       " 351,\n",
       " 427,\n",
       " 501,\n",
       " 633,\n",
       " 675,\n",
       " 815,\n",
       " 851,\n",
       " 977,\n",
       " 1079,\n",
       " 1299,\n",
       " 1455,\n",
       " 1493,\n",
       " 1525,\n",
       " 1531,\n",
       " 1763,\n",
       " 1851,\n",
       " 1905,\n",
       " 1993]"
      ]
     },
     "execution_count": 19,
     "metadata": {},
     "output_type": "execute_result"
    }
   ],
   "source": [
    "blanks"
   ]
  },
  {
   "cell_type": "code",
   "execution_count": 20,
   "id": "ce8eda92-61fa-4efa-a119-14378660670e",
   "metadata": {},
   "outputs": [],
   "source": [
    "df.drop(blanks, inplace=True)"
   ]
  },
  {
   "cell_type": "code",
   "execution_count": 21,
   "id": "c2ee13c7-1c71-496c-bf29-a43e8897d3c4",
   "metadata": {},
   "outputs": [
    {
     "data": {
      "text/plain": [
       "1938"
      ]
     },
     "execution_count": 21,
     "metadata": {},
     "output_type": "execute_result"
    }
   ],
   "source": [
    "len(df)"
   ]
  },
  {
   "cell_type": "code",
   "execution_count": 22,
   "id": "7328914c-c304-4ec4-97b0-7d261755605c",
   "metadata": {},
   "outputs": [],
   "source": [
    "from sklearn.model_selection import train_test_split"
   ]
  },
  {
   "cell_type": "code",
   "execution_count": 23,
   "id": "26a10be2-b75a-44cd-aa34-275847c4edb3",
   "metadata": {},
   "outputs": [],
   "source": [
    "X = df['review']\n",
    "\n",
    "y = df['label']"
   ]
  },
  {
   "cell_type": "code",
   "execution_count": 24,
   "id": "bc6f1153-e2d0-4614-9ae4-f18260e48bce",
   "metadata": {},
   "outputs": [],
   "source": [
    "X_train, X_test, y_train, y_test = train_test_split(X, y, test_size=0.3, random_state=42)"
   ]
  },
  {
   "cell_type": "code",
   "execution_count": 26,
   "id": "fa7ecd69-e45a-4b83-bdf3-543bee385f98",
   "metadata": {},
   "outputs": [],
   "source": [
    "from sklearn.pipeline import Pipeline\n",
    "from sklearn.feature_extraction.text import TfidfVectorizer\n",
    "from sklearn.svm import LinearSVC"
   ]
  },
  {
   "cell_type": "code",
   "execution_count": 27,
   "id": "a9817160-bf8e-4b55-8ef9-bdd0eac33c30",
   "metadata": {},
   "outputs": [],
   "source": [
    "text_clf = Pipeline([('tfidf',TfidfVectorizer()),\n",
    "                     ('clf',LinearSVC())])"
   ]
  },
  {
   "cell_type": "code",
   "execution_count": 28,
   "id": "7fe10235-7d40-495d-8776-fc4ab07cd89d",
   "metadata": {},
   "outputs": [
    {
     "data": {
      "text/plain": [
       "Pipeline(steps=[('tfidf', TfidfVectorizer()), ('clf', LinearSVC())])"
      ]
     },
     "execution_count": 28,
     "metadata": {},
     "output_type": "execute_result"
    }
   ],
   "source": [
    "text_clf.fit(X_train, y_train)"
   ]
  },
  {
   "cell_type": "code",
   "execution_count": 29,
   "id": "c741fa6a-88a9-40a4-9d35-01a4122692ef",
   "metadata": {},
   "outputs": [],
   "source": [
    "predictions = text_clf.predict(X_test)"
   ]
  },
  {
   "cell_type": "code",
   "execution_count": 30,
   "id": "1adb5a75-3149-4063-8b5e-6dc023b16891",
   "metadata": {},
   "outputs": [],
   "source": [
    "from sklearn.metrics import confusion_matrix, classification_report\n",
    "from sklearn import metrics"
   ]
  },
  {
   "cell_type": "code",
   "execution_count": 31,
   "id": "8a01ce85-7ca5-4bad-b943-8a7f4530191d",
   "metadata": {},
   "outputs": [
    {
     "name": "stdout",
     "output_type": "stream",
     "text": [
      "[[235  47]\n",
      " [ 41 259]]\n"
     ]
    }
   ],
   "source": [
    "print(confusion_matrix(y_test, predictions))"
   ]
  },
  {
   "cell_type": "code",
   "execution_count": 32,
   "id": "7451052e-fce6-4b1c-93bc-a4f128dea486",
   "metadata": {},
   "outputs": [
    {
     "name": "stdout",
     "output_type": "stream",
     "text": [
      "              precision    recall  f1-score   support\n",
      "\n",
      "         neg       0.85      0.83      0.84       282\n",
      "         pos       0.85      0.86      0.85       300\n",
      "\n",
      "    accuracy                           0.85       582\n",
      "   macro avg       0.85      0.85      0.85       582\n",
      "weighted avg       0.85      0.85      0.85       582\n",
      "\n"
     ]
    }
   ],
   "source": [
    "print(classification_report(y_test, predictions))"
   ]
  }
 ],
 "metadata": {
  "kernelspec": {
   "display_name": "Python 3 (ipykernel)",
   "language": "python",
   "name": "python3"
  },
  "language_info": {
   "codemirror_mode": {
    "name": "ipython",
    "version": 3
   },
   "file_extension": ".py",
   "mimetype": "text/x-python",
   "name": "python",
   "nbconvert_exporter": "python",
   "pygments_lexer": "ipython3",
   "version": "3.8.13"
  }
 },
 "nbformat": 4,
 "nbformat_minor": 5
}
